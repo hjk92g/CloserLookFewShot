{
 "cells": [
  {
   "cell_type": "markdown",
   "metadata": {},
   "source": [
    "# 1-shot learnings "
   ]
  },
  {
   "cell_type": "code",
   "execution_count": null,
   "metadata": {},
   "outputs": [],
   "source": [
    "#CUB dataset\n",
    "!CUDA_VISIBLE_DEVICES=0 python ./train.py --dataset CUB --model Conv4 --method protonet_S --n_shot 1 --train_n_way 5 --test_n_way 5 --train_aug > record/CUB_Conv4_proto_S_1s5w.txt\n",
    "!CUDA_VISIBLE_DEVICES=0 python ./train.py --dataset CUB --model Conv4 --method protonet_DR --n_shot 1 --train_n_way 5 --test_n_way 5 --train_aug > record/CUB_Conv4_proto_DR_1s5w.txt\n",
    "!CUDA_VISIBLE_DEVICES=0 python ./train.py --dataset CUB --model ResNet18 --method protonet_S --n_shot 1 --train_n_way 5 --test_n_way 5 --train_aug > record/CUB_ResNet18_proto_S_1s5w.txt\n",
    "!CUDA_VISIBLE_DEVICES=0 python ./train.py --dataset CUB --model ResNet18 --method protonet_DR --n_shot 1 --train_n_way 5 --test_n_way 5 --train_aug > record/CUB_ResNet18_proto_DR_1s5w.txt\n",
    "\n",
    "#miniImagenet dataset\n",
    "!CUDA_VISIBLE_DEVICES=0 python ./train.py --dataset miniImagenet --model Conv4 --method protonet_S --n_shot 1 --train_n_way 5 --test_n_way 5 --train_aug > record/miniImagenet_Conv4_proto_S_1s5w.txt\n",
    "!CUDA_VISIBLE_DEVICES=0 python ./train.py --dataset miniImagenet --model Conv4 --method protonet_DR --n_shot 1 --train_n_way 5 --test_n_way 5 --train_aug > record/miniImagenet_Conv4_proto_DR_1s5w.txt\n",
    "!CUDA_VISIBLE_DEVICES=0 python ./train.py --dataset miniImagenet --model ResNet18 --method protonet_S --n_shot 1 --train_n_way 5 --test_n_way 5 --train_aug > record/miniImagenet_ResNet18_proto_S_1s5w.txt\n",
    "!CUDA_VISIBLE_DEVICES=0 python ./train.py --dataset miniImagenet --model ResNet18 --method protonet_DR --n_shot 1 --train_n_way 5 --test_n_way 5 --train_aug > record/miniImagenet_ResNet18_proto_DR_1s5w.txt"
   ]
  },
  {
   "cell_type": "markdown",
   "metadata": {},
   "source": [
    "# 5-shot learnings "
   ]
  },
  {
   "cell_type": "code",
   "execution_count": null,
   "metadata": {},
   "outputs": [],
   "source": [
    "#CUB dataset\n",
    "!CUDA_VISIBLE_DEVICES=0 python ./train.py --dataset CUB --model Conv4 --method protonet_S --n_shot 5 --train_n_way 5 --test_n_way 5 --train_aug > record/CUB_Conv4_proto_S_5s5w.txt\n",
    "!CUDA_VISIBLE_DEVICES=0 python ./train.py --dataset CUB --model Conv4 --method protonet_DR --n_shot 5 --train_n_way 5 --test_n_way 5 --train_aug > record/CUB_Conv4_proto_DR_5s5w.txt\n",
    "!CUDA_VISIBLE_DEVICES=0 python ./train.py --dataset CUB --model ResNet18 --method protonet_S --n_shot 5 --train_n_way 5 --test_n_way 5 --train_aug > record/CUB_ResNet18_proto_S_5s5w.txt\n",
    "!CUDA_VISIBLE_DEVICES=0 python ./train.py --dataset CUB --model ResNet18 --method protonet_DR --n_shot 5 --train_n_way 5 --test_n_way 5 --train_aug > record/CUB_ResNet18_proto_DR_5s5w.txt\n",
    "\n",
    "#miniImagenet dataset\n",
    "!CUDA_VISIBLE_DEVICES=0 python ./train.py --dataset miniImagenet --model Conv4 --method protonet_S --n_shot 5 --train_n_way 5 --test_n_way 5 --train_aug > record/miniImagenet_Conv4_proto_S_5s5w.txt\n",
    "!CUDA_VISIBLE_DEVICES=0 python ./train.py --dataset miniImagenet --model Conv4 --method protonet_DR --n_shot 5 --train_n_way 5 --test_n_way 5 --train_aug > record/miniImagenet_Conv4_proto_DR_5s5w.txt\n",
    "!CUDA_VISIBLE_DEVICES=0 python ./train.py --dataset miniImagenet --model ResNet18 --method protonet_S --n_shot 5 --train_n_way 5 --test_n_way 5 --train_aug > record/miniImagenet_ResNet18_proto_S_5s5w.txt\n",
    "!CUDA_VISIBLE_DEVICES=0 python ./train.py --dataset miniImagenet --model ResNet18 --method protonet_DR --n_shot 5 --train_n_way 5 --test_n_way 5 --train_aug > record/miniImagenet_ResNet18_proto_DR_5s5w.txt"
   ]
  },
  {
   "cell_type": "markdown",
   "metadata": {},
   "source": [
    "# 5-shot learnings (with differentiable nearest neighbor)"
   ]
  },
  {
   "cell_type": "code",
   "execution_count": null,
   "metadata": {},
   "outputs": [],
   "source": [
    "#CUB dataset\n",
    "!CUDA_VISIBLE_DEVICES=0 python ./train.py --dataset CUB --model Conv4 --method softmax_1nn --n_shot 5 --train_n_way 5 --test_n_way 5 --train_aug > record/CUB_Conv4_softmax1nn_5s5w.txt\n",
    "!CUDA_VISIBLE_DEVICES=0 python ./train.py --dataset CUB --model Conv4 --method DR_1nn --n_shot 5 --train_n_way 5 --test_n_way 5 --train_aug > record/CUB_Conv4_dr1nn_5s5w.txt\n",
    "!CUDA_VISIBLE_DEVICES=0 python ./train.py --dataset CUB --model ResNet18 --method softmax_1nn --n_shot 5 --train_n_way 5 --test_n_way 5 --train_aug > record/CUB_ResNet18_softmax1nn_5s5w.txt\n",
    "!CUDA_VISIBLE_DEVICES=0 python ./train.py --dataset CUB --model ResNet18 --method DR_1nn --n_shot 5 --train_n_way 5 --test_n_way 5 --train_aug > record/CUB_ResNet18_dr1nn_5s5w.txt\n",
    "\n",
    "#miniImagenet dataset\n",
    "!CUDA_VISIBLE_DEVICES=0 python ./train.py --dataset miniImagenet --model Conv4 --method softmax_1nn --n_shot 5 --train_n_way 5 --test_n_way 5 --train_aug > record/miniImagenet_Conv4_softmax1nn_5s5w.txt\n",
    "!CUDA_VISIBLE_DEVICES=0 python ./train.py --dataset miniImagenet --model Conv4 --method DR_1nn --n_shot 5 --train_n_way 5 --test_n_way 5 --train_aug > record/miniImagenet_Conv4_dr1nn_5s5w.txt\n",
    "!CUDA_VISIBLE_DEVICES=0 python ./train.py --dataset miniImagenet --model ResNet18 --method softmax_1nn --n_shot 5 --train_n_way 5 --test_n_way 5 --train_aug > record/miniImagenet_ResNet18_softmax1nn_5s5w.txt\n",
    "!CUDA_VISIBLE_DEVICES=0 python ./train.py --dataset miniImagenet --model ResNet18 --method DR_1nn --n_shot 5 --train_n_way 5 --test_n_way 5 --train_aug > record/miniImagenet_ResNet18_dr1nn_5s5w.txt"
   ]
  }
 ],
 "metadata": {
  "kernelspec": {
   "display_name": "Python 3",
   "language": "python",
   "name": "python3"
  },
  "language_info": {
   "codemirror_mode": {
    "name": "ipython",
    "version": 3
   },
   "file_extension": ".py",
   "mimetype": "text/x-python",
   "name": "python",
   "nbconvert_exporter": "python",
   "pygments_lexer": "ipython3",
   "version": "3.6.9"
  }
 },
 "nbformat": 4,
 "nbformat_minor": 4
}
